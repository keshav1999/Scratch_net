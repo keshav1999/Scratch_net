{
 "cells": [
  {
   "cell_type": "code",
   "execution_count": 1,
   "metadata": {},
   "outputs": [],
   "source": [
    "import numpy as np\n",
    "import matplotlib.pyplot as plt\n",
    "import pandas as pd"
   ]
  },
  {
   "cell_type": "code",
   "execution_count": 2,
   "metadata": {},
   "outputs": [],
   "source": [
    "X_data= pd.read_csv(\"logisticX.csv\")"
   ]
  },
  {
   "cell_type": "code",
   "execution_count": 3,
   "metadata": {},
   "outputs": [],
   "source": [
    "Y_data= pd.read_csv(\"logisticY.csv\")"
   ]
  },
  {
   "cell_type": "code",
   "execution_count": 4,
   "metadata": {},
   "outputs": [
    {
     "name": "stdout",
     "output_type": "stream",
     "text": [
      "    3.8915  4.2105\n",
      "0   3.6898  6.6051\n",
      "1   2.7763  7.5057\n",
      "2   3.1137  5.7724\n",
      "3   2.9251  5.4315\n",
      "4   3.6699  6.4406\n",
      "5   2.8404  3.8136\n",
      "6   3.7729  5.2398\n",
      "7   2.6465  3.4946\n",
      "8   4.0902  5.9298\n",
      "9   3.3337  5.5294\n",
      "10  1.4400  5.8302\n",
      "11  3.6919  5.0708\n",
      "12  4.4506  3.6290\n",
      "13  4.7716  6.4982\n",
      "14  3.7306  4.8439\n",
      "15  4.9867  5.6805\n",
      "16  4.1954  6.4550\n",
      "17  5.6164  6.0755\n",
      "18  3.7672  4.6705\n",
      "19  3.9820  5.2395\n",
      "20  3.9381  5.2835\n",
      "21  4.0603  6.4953\n",
      "22  4.3357  6.7917\n",
      "23  4.5707  4.4346\n",
      "24  2.5098  4.4806\n",
      "25  2.2003  5.6314\n",
      "26  4.8419  5.4988\n",
      "27  4.4708  5.7022\n",
      "28  2.6502  4.4475\n",
      "29  3.4506  4.1548\n",
      "..     ...     ...\n",
      "69  6.6949  2.7201\n",
      "70  5.4368  4.1784\n",
      "71  6.0597  3.2800\n",
      "72  5.7150  4.0286\n",
      "73  5.9220  2.9962\n",
      "74  3.4284  4.0874\n",
      "75  4.5904  3.8441\n",
      "76  5.2147  4.0196\n",
      "77  6.1363  4.6772\n",
      "78  5.8662  4.3752\n",
      "79  5.3976  1.9560\n",
      "80  3.3328  5.3288\n",
      "81  4.0697  2.2547\n",
      "82  6.8436  1.7320\n",
      "83  5.6380  4.4592\n",
      "84  5.5175  2.7173\n",
      "85  5.1615  1.6006\n",
      "86  8.4153  3.4567\n",
      "87  4.8131  5.3435\n",
      "88  5.3576  4.3978\n",
      "89  6.0388  4.1950\n",
      "90  6.8282  2.4295\n",
      "91  5.3690  2.6921\n",
      "92  6.4701  4.4246\n",
      "93  6.4986  4.8292\n",
      "94  5.7629  4.6161\n",
      "95  4.1817  4.0577\n",
      "96  6.3065  2.4776\n",
      "97  5.6043  3.3146\n",
      "98  7.0567  4.7346\n",
      "\n",
      "[99 rows x 2 columns]\n",
      "    0\n",
      "0   0\n",
      "1   0\n",
      "2   0\n",
      "3   0\n",
      "4   0\n",
      "5   0\n",
      "6   0\n",
      "7   0\n",
      "8   0\n",
      "9   0\n",
      "10  0\n",
      "11  0\n",
      "12  0\n",
      "13  0\n",
      "14  0\n",
      "15  0\n",
      "16  0\n",
      "17  0\n",
      "18  0\n",
      "19  0\n",
      "20  0\n",
      "21  0\n",
      "22  0\n",
      "23  0\n",
      "24  0\n",
      "25  0\n",
      "26  0\n",
      "27  0\n",
      "28  0\n",
      "29  0\n",
      ".. ..\n",
      "69  1\n",
      "70  1\n",
      "71  1\n",
      "72  1\n",
      "73  1\n",
      "74  1\n",
      "75  1\n",
      "76  1\n",
      "77  1\n",
      "78  1\n",
      "79  1\n",
      "80  1\n",
      "81  1\n",
      "82  1\n",
      "83  1\n",
      "84  1\n",
      "85  1\n",
      "86  1\n",
      "87  1\n",
      "88  1\n",
      "89  1\n",
      "90  1\n",
      "91  1\n",
      "92  1\n",
      "93  1\n",
      "94  1\n",
      "95  1\n",
      "96  1\n",
      "97  1\n",
      "98  1\n",
      "\n",
      "[99 rows x 1 columns]\n"
     ]
    }
   ],
   "source": [
    "print(X_data)\n",
    "print(Y_data)"
   ]
  },
  {
   "cell_type": "code",
   "execution_count": 5,
   "metadata": {},
   "outputs": [],
   "source": [
    "X_data=X_data.values\n",
    "Y_data=Y_data.values"
   ]
  },
  {
   "cell_type": "code",
   "execution_count": 6,
   "metadata": {},
   "outputs": [
    {
     "name": "stdout",
     "output_type": "stream",
     "text": [
      "(99, 2)\n",
      "(99, 1)\n"
     ]
    }
   ],
   "source": [
    "print(X_data.shape)\n",
    "print(Y_data.shape)"
   ]
  },
  {
   "cell_type": "code",
   "execution_count": 7,
   "metadata": {},
   "outputs": [
    {
     "data": {
      "image/png": "[encoded data removed]",
      "text/plain": [
       "<Figure size 432x288 with 1 Axes>"
      ]
     },
     "metadata": {},
     "output_type": "display_data"
    }
   ],
   "source": [
    "plt.scatter(X_data[:50,0],X_data[:50,1])\n",
    "plt.scatter(X_data[50:,0],X_data[50:,1],color='r',marker='^')\n",
    "plt.show()"
   ]
  },
  {
   "cell_type": "code",
   "execution_count": 8,
   "metadata": {},
   "outputs": [
    {
     "name": "stdout",
     "output_type": "stream",
     "text": [
      "(99, 1)\n",
      "(99, 3)\n",
      "[[1.     3.6898 6.6051]\n",
      " [1.     2.7763 7.5057]\n",
      " [1.     3.1137 5.7724]\n",
      " [1.     2.9251 5.4315]\n",
      " [1.     3.6699 6.4406]\n",
      " [1.     2.8404 3.8136]\n",
      " [1.     3.7729 5.2398]\n",
      " [1.     2.6465 3.4946]\n",
      " [1.     4.0902 5.9298]\n",
      " [1.     3.3337 5.5294]\n",
      " [1.     1.44   5.8302]\n",
      " [1.     3.6919 5.0708]\n",
      " [1.     4.4506 3.629 ]\n",
      " [1.     4.7716 6.4982]\n",
      " [1.     3.7306 4.8439]\n",
      " [1.     4.9867 5.6805]\n",
      " [1.     4.1954 6.455 ]\n",
      " [1.     5.6164 6.0755]\n",
      " [1.     3.7672 4.6705]\n",
      " [1.     3.982  5.2395]\n",
      " [1.     3.9381 5.2835]\n",
      " [1.     4.0603 6.4953]\n",
      " [1.     4.3357 6.7917]\n",
      " [1.     4.5707 4.4346]\n",
      " [1.     2.5098 4.4806]\n",
      " [1.     2.2003 5.6314]\n",
      " [1.     4.8419 5.4988]\n",
      " [1.     4.4708 5.7022]\n",
      " [1.     2.6502 4.4475]\n",
      " [1.     3.4506 4.1548]\n",
      " [1.     5.3572 5.4207]\n",
      " [1.     2.3391 6.7416]\n",
      " [1.     3.8305 6.1357]\n",
      " [1.     2.1096 5.3812]\n",
      " [1.     3.674  5.1154]\n",
      " [1.     3.8091 4.3737]\n",
      " [1.     3.3172 6.4038]\n",
      " [1.     4.4469 6.3588]\n",
      " [1.     3.3633 5.3338]\n",
      " [1.     4.6922 5.8894]\n",
      " [1.     4.6014 5.774 ]\n",
      " [1.     3.2233 6.4315]\n",
      " [1.     3.7617 7.1484]\n",
      " [1.     3.7115 3.7335]\n",
      " [1.     4.4714 5.1916]\n",
      " [1.     4.7502 5.4191]\n",
      " [1.     4.2977 4.2184]\n",
      " [1.     3.5279 5.2086]\n",
      " [1.     2.6096 6.3162]\n",
      " [1.     4.7394 2.6582]\n",
      " [1.     3.3908 3.4965]\n",
      " [1.     4.4767 2.9949]\n",
      " [1.     5.7886 1.6549]\n",
      " [1.     4.735  2.4475]\n",
      " [1.     6.4513 1.5372]\n",
      " [1.     4.94   5.1969]\n",
      " [1.     5.7323 3.7426]\n",
      " [1.     4.9014 4.1027]\n",
      " [1.     6.1341 3.7068]\n",
      " [1.     3.8544 4.6233]\n",
      " [1.     7.1477 5.0198]\n",
      " [1.     5.2805 3.0939]\n",
      " [1.     5.3616 2.5338]\n",
      " [1.     4.0691 4.6088]\n",
      " [1.     5.4984 5.7533]\n",
      " [1.     5.4295 3.2801]\n",
      " [1.     4.2903 2.7389]\n",
      " [1.     6.0986 3.8345]\n",
      " [1.     7.5195 2.5559]\n",
      " [1.     6.6949 2.7201]\n",
      " [1.     5.4368 4.1784]\n",
      " [1.     6.0597 3.28  ]\n",
      " [1.     5.715  4.0286]\n",
      " [1.     5.922  2.9962]\n",
      " [1.     3.4284 4.0874]\n",
      " [1.     4.5904 3.8441]\n",
      " [1.     5.2147 4.0196]\n",
      " [1.     6.1363 4.6772]\n",
      " [1.     5.8662 4.3752]\n",
      " [1.     5.3976 1.956 ]\n",
      " [1.     3.3328 5.3288]\n",
      " [1.     4.0697 2.2547]\n",
      " [1.     6.8436 1.732 ]\n",
      " [1.     5.638  4.4592]\n",
      " [1.     5.5175 2.7173]\n",
      " [1.     5.1615 1.6006]\n",
      " [1.     8.4153 3.4567]\n",
      " [1.     4.8131 5.3435]\n",
      " [1.     5.3576 4.3978]\n",
      " [1.     6.0388 4.195 ]\n",
      " [1.     6.8282 2.4295]\n",
      " [1.     5.369  2.6921]\n",
      " [1.     6.4701 4.4246]\n",
      " [1.     6.4986 4.8292]\n",
      " [1.     5.7629 4.6161]\n",
      " [1.     4.1817 4.0577]\n",
      " [1.     6.3065 2.4776]\n",
      " [1.     5.6043 3.3146]\n",
      " [1.     7.0567 4.7346]]\n"
     ]
    }
   ],
   "source": [
    "ones = np.ones((99,1))\n",
    "print(ones.shape)\n",
    "\n",
    "X_data = np.hstack((ones,X_data))\n",
    "print(X_data.shape)\n",
    "print(X_data)"
   ]
  },
  {
   "cell_type": "code",
   "execution_count": 9,
   "metadata": {},
   "outputs": [],
   "source": [
    "def h(x,theta):\n",
    "    return 1.0/(1+np.exp(-np.dot(x,theta)))\n",
    "\n",
    "def cost(X,Y,theta):\n",
    "    \n",
    "    m = X.shape[0]\n",
    "    cost = 0 \n",
    "    for i in range(m):\n",
    "        hx = h(X[i],theta)\n",
    "        cost += Y[i]*np.log(hx) + (1-Y[i])*np.log(1-hx)\n",
    "        \n",
    "    return cost\n",
    "\n",
    "def grad(X,Y,theta):\n",
    "    \n",
    "    m = X.shape[0]\n",
    "    n = X.shape[1]\n",
    "    grad = np.zeros((n,))\n",
    "    \n",
    "    for i in range(m):\n",
    "        for j in range(n):\n",
    "            hx = h(X[i],theta)\n",
    "            grad[j] += (Y[i] - hx)*X[i][j]\n",
    "    \n",
    "    return grad/m\n",
    "\n",
    "\n",
    "def gradientAscent(X,Y,learning_rate=0.1):\n",
    "    m = X.shape[0]\n",
    "    n = X.shape[1]\n",
    "    theta = np.zeros((n,))\n",
    "    costs = []\n",
    "    \n",
    "    for epoch in range(300):\n",
    "        g = grad(X,Y,theta)\n",
    "        \n",
    "        for j in range(n):\n",
    "            theta[j] = theta[j] + learning_rate*g[j]\n",
    "        \n",
    "        costs.append(cost(X,Y,theta))\n",
    "            \n",
    "       \n",
    "    \n",
    "    return theta,costs\n"
   ]
  },
  {
   "cell_type": "code",
   "execution_count": 10,
   "metadata": {},
   "outputs": [],
   "source": [
    "theta,costs = gradientAscent(X_data,Y_data)"
   ]
  },
  {
   "cell_type": "code",
   "execution_count": 11,
   "metadata": {},
   "outputs": [
    {
     "name": "stdout",
     "output_type": "stream",
     "text": [
      "[ 0.02529983  1.64185471 -1.61224589]\n"
     ]
    },
    {
     "data": {
      "image/png": "[encoded data removed]",
      "text/plain": [
       "<Figure size 432x288 with 1 Axes>"
      ]
     },
     "metadata": {},
     "output_type": "display_data"
    },
    {
     "name": "stdout",
     "output_type": "stream",
     "text": [
      "[-22.68589283]\n"
     ]
    }
   ],
   "source": [
    "print(theta)\n",
    "plt.plot(costs)\n",
    "plt.show()\n",
    "print(costs[-1])"
   ]
  },
  {
   "cell_type": "code",
   "execution_count": 12,
   "metadata": {},
   "outputs": [
    {
     "data": {
      "image/png": "[encoded data removed]",
      "text/plain": [
       "<Figure size 432x288 with 1 Axes>"
      ]
     },
     "metadata": {},
     "output_type": "display_data"
    }
   ],
   "source": [
    "plt.scatter(X_data[:50,1],X_data[:50,2])\n",
    "plt.scatter(X_data[50:,1],X_data[50:,2],color='r',marker='^')\n",
    "x=np.linspace(2,8,10)\n",
    "plt.plot(x,(-(theta[0]+theta[1]*x)/theta[2]),color='k')\n",
    "plt.show()"
   ]
  },
  {
   "cell_type": "code",
   "execution_count": null,
   "metadata": {},
   "outputs": [],
   "source": []
  }
 ],
 "metadata": {
  "kernelspec": {
   "display_name": "Python 3",
   "language": "python",
   "name": "python3"
  },
  "language_info": {
   "codemirror_mode": {
    "name": "ipython",
    "version": 3
   },
   "file_extension": ".py",
   "mimetype": "text/x-python",
   "name": "python",
   "nbconvert_exporter": "python",
   "pygments_lexer": "ipython3",
   "version": "3.5.2+"
  }
 },
 "nbformat": 4,
 "nbformat_minor": 2
}
